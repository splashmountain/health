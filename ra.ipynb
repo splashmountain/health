{
 "cells": [
  {
   "cell_type": "code",
   "execution_count": 23,
   "metadata": {
    "collapsed": true
   },
   "outputs": [],
   "source": [
    "import glob\n",
    "import pandas as pd\n",
    "import numpy as np\n",
    "import re\n",
    "import spacy\n",
    "from sklearn import svm\n",
    "from sklearn.feature_extraction.text import CountVectorizer\n",
    "from sklearn.model_selection import train_test_split\n",
    "from sklearn.metrics import confusion_matrix"
   ]
  },
  {
   "cell_type": "markdown",
   "metadata": {},
   "source": [
    "## Read in the notes"
   ]
  },
  {
   "cell_type": "code",
   "execution_count": 5,
   "metadata": {
    "collapsed": true
   },
   "outputs": [],
   "source": [
    "def sep():\n",
    "    label_path = 'docclasses_RAtrial.csv'\n",
    "    df=pd.read_csv(label_path)\n",
    "    df1=df.loc[df['truedocumentclass'] == 1]\n",
    "    df0=df.loc[df['truedocumentclass'] == 0]\n",
    "    fn1 = df1['documentname'].tolist()\n",
    "    fn0 = df0['documentname'].tolist()\n",
    "    return fn1, fn0"
   ]
  },
  {
   "cell_type": "code",
   "execution_count": 2,
   "metadata": {
    "collapsed": true
   },
   "outputs": [],
   "source": [
    "def read_notes(fn1): # from individual input files\n",
    "    f_path = \"Corpus_Test/*\"\n",
    "    names = glob.glob(f_path) # [...,'Corpus_Test/652742.txt',...]\n",
    "    names.sort()\n",
    "\n",
    "    notes1 = []\n",
    "    id1 = []\n",
    "    notes0 = []\n",
    "    id0 = []\n",
    "    for fi in names:\n",
    "        with open(fi, \"r\") as f:\n",
    "            a = fi[12:] #remove prefix\n",
    "            b = int(a[:-4]) #remove suffix, then b is the id (also doc_name) for each note\n",
    "            note = f.read()\n",
    "            words = note.split()\n",
    "            flat = \" \".join(words)\n",
    "            if b in fn1:\n",
    "                notes1.append(flat)\n",
    "                id1.append(b)\n",
    "            else:\n",
    "                notes0.append(flat)\n",
    "                id0.append(b)\n",
    "    return notes1, notes0, id1, id0"
   ]
  },
  {
   "cell_type": "code",
   "execution_count": 8,
   "metadata": {
    "collapsed": true
   },
   "outputs": [],
   "source": [
    "nlp = spacy.load('en')"
   ]
  },
  {
   "cell_type": "markdown",
   "metadata": {},
   "source": [
    "Now, all bleeding notes are read in array named notes1, all non-bleeding notes are read in array named notes1. Let's look at the first bleeding note where bleeding is present."
   ]
  },
  {
   "cell_type": "code",
   "execution_count": 6,
   "metadata": {},
   "outputs": [
    {
     "data": {
      "text/plain": [
       "\"Admission Date: [**2533-12-28**] Discharge Date: [**2534-1-6**] Service: CARDIOTHOR CHIEF COMPLAINT: The patient is an 85-year-old woman patient of Dr. [**First Name8 (NamePattern2) **] [**Last Name (NamePattern1) 721**] referred for an outpatient cardiac catheterization due to progressive dyspnea on exertion on positive ETT. HISTORY OF THE PRESENT ILLNESS: [**Known patient firstname 4426**] [**Known patient lastname 4427**] is an 85-year-old woman with no known cardiac history. She complains of several weeks of shortness of breath with a minimal amount of exertion. She states that she was recently out with her daughter doing some shopping and her daughter noticed that the patient was quite short of breath. She denied any history of chest discomfort, palpitations, or dizziness. Echocardiogram from [**Month (only) 151**] of this year revealed mild to moderate MI, mild TIA, moderate pulmonary artery hypertension, concentric LVH with an EF60%, sclerotic aortic valve without stenosis, Persantine exercise tolerance also done in [**Month (only) 1090**], positive for nausea and 5.5-mm inferolateral ST depression. Myoview images revealed a moderately large territory of distal anterior apical and septal ischemia. There is no history of prior infarct. The EF on myoview is 70%. The patient's height is 5 feet 7 inches. Weight 172 pounds. PAST MEDICAL HISTORY: History is significant for prior atrial fibrillation, COPD, low back pain, CVA three to four years ago with some vision loss in the right eye. PAST SURGICAL HISTORY: History is significant for appendectomy, right hip replacement six to seven years ago. ALLERGIES: The patient has no known drug allergies. MEDICATIONS: Medications, prior to admission revealed the following: 1. Aspirin 325 mg q.d. 2. Atenolol 25 mg q.d. 3. Betapace 40 mg b.i.d. 4. Digoxin 0.125 mg q.d. 5. Lipitor 10 mg q.d. LABORATORY DATA: Data, prior to admission, revealed the white count of 10.2, hematocrit 37.0, platelet count 183,000, INR .93, glucose 108, sodium 140, potassium 4.7, chloride 104, CO2 27, BUN 23, creatinine 1.0. SOCIAL HISTORY: The patient is widowed. She lives in an [**Hospital3 71**] at [**Location (un) 4428**]. She has several supportive children. The patient underwent cardiac catheterization on [**12-22**]. Please see the catheterization report for full details. In summary, the catheterization showed 100% LAD after the first diagonal filling left to left collaterals, OM2 50%, RCA hazy, 90% ostial lesion, mid 50% lesion with EF of 50% and calcified mitral annulus. The patient tolerated the procedure well. The patient was to be discharged home after cardiac catheterization to return in one week for coronary artery bypass graft with Dr. [**Last Name (STitle) 1882**]. The patient was re-admitted to [**Hospital1 58**] on [**12-28**], at which time she was admitted to the operating room, where she underwent off pump coronary artery bypass grafting time three. Please see the operating report for full details. She tolerated the procedure well. In summary, she underwent coronary artery bypass grafting times three with a LIMA to the LAD, vein graft to OM2 and vein graft to right PDA. The patient tolerated the procedure well. She was transferred from the operating to the Cardiothoracic Intensive Care Unit. At the time of transfer, the patient had an arterial and a Swan-Ganz catheter, two ventricular pacing wires, two mediastinal chest tubes, right pleural chest tube and left pleural chest tube. Mean arterial pressure was 110. CVP was 10 and she had propofol at 3 mcg/kg per minute. The patient's immediate postoperative course was complicated by brisk bleeding via her chest tubes. Later in the evening, the patient was returned to the operating room for re-exploration. Following the exploration, the patient was returned to the Cardiothoracic Intensive Care Unit. At that time she was hemodynamically stable. She did well in the Immediate Post re-exploration period. Anesthetics were reversed. She was weaned from the ventilator. On the following morning she was successfully extubated. The patient remained in stable condition throughout postoperative day #1. Hemodynamically, she was apaced at a rate of 85 with a blood pressure of 120/51 and a cardiac index of 2.3. She was breathing comfortably with oxygen saturations in the high 90s on four liters of nasal prongs. Abdomen was soft and nontender. Underlying rhythm was a junctional rhythm at a rate of 20. With her junctional rhythm the patient dropped her blood pressure. For this reason she was maintained on a dopamine drip and continued to be apaced. On postoperative day #2, the patient's epicardial pacing wires failed. Because of the failure to capture the epicardiac pacing wires, it was necessary to replace the patient's Swan-Ganz catheter with a pacing Swan-Ganz catheter. She tolerated that procedure well. She continued to be apaced with the pacing Swan. The underlying rhythm at that time was a junctional escape in the 40s with a blood pressure of 60/40 with periods of asystole. At that time electrophysiology was consulted and asked to assess the patient with no sinus rhythm or intermittent sinus rhythm following coronary artery bypass grafting. Over the next several days the patient remained hemodynamically stable. She remained in the Intensive Care Unit, where she was apaced and followed by both cardiothoracic surgery and electrophysiology to see if the patient's sinus rhythm would return to normal function. On postoperative day #7, it was decided that the likelihood of recovery of the sinus rhythm was low, and at that time she was taken to the electrophysiology laboratory where she underwent EP testing and placement of a permanent pacemaker. Following the pacemaker placement, the patient was transferred to Far 6 for continuing postoperative care and recovery from cardiothoracic surgery. On postoperative day #8, it was decided that the patient was stable and ready for transfer to rehabilitation for continuing postoperative care and physical therapy following coronary artery bypass graft and permanent pacemaker placement. At the time of transfer, the patient's condition is stable. PHYSICAL EXAMINATION: Physical examination is as follows: Temperature 98, heart rate 79, blood pressure 135/5, respiratory rate 20, oxygen saturation 95% on room air. Weight, preoperatively is 80.2 kg; on discharge 85.3 kg. LABORATORY DATA: Laboratory data revealed the following: Hematocrit 29, white blood cell count 11, sodium 136, potassium 4.5, BUN 19, creatinine 1.1, glucose 108. PHYSICAL EXAMINATION: The patient was alert, oriented times three; moves all extremities, follows commands. Respiratory: Clear to auscultation bilaterally with diminished breath sounds bilaterally at the bases. Heart sounds: Regular rate and rhythm, S1 and S2. Sternum is stable. Incision with staples, open to air, clean and dry. Abdomen: Soft, nontender, nondistended, normoactive bowel sounds. Extremities are warm and well perfused with no clubbing, cyanosis or edema. Right lower extremity incision with Steri Strips open to air, clean and dry. Left shoulder incision revealed dry sterile dressing clean and dry. DISCHARGE MEDICATIONS: 1. Plavix 75 mg q.d. 2. Captopril 12.5 mg t.i.d. 3. Aspirin 325 mg q.d. 4. Ranitidine 150 mg q.d. 5. Colace 100 mg b.i.d. 6. Amiodarone 400 mg q.d. 7. Lopressor 25 mg b.i.d. 8. Vancomycin 1 gram q.12h. times two more doses. FOLLOW-UP CARE: The patient is to have followup with electrophysiology in the pacemaker clinic in ten days. She is also to have followup in the wound clinic in ten days and to have followup with Dr. [**Last Name (STitle) 1882**] in one month. [**First Name11 (Name Pattern1) **] [**Last Name (NamePattern4) 1887**], M.D. [**MD Number(1) 1888**] Dictated By:[**Last Name (NamePattern4) 4429**] MEDQUIST36 D: [**2534-1-5**] 13:25 T: [**2534-1-5**] 13:24 JOB#: [**Job Number 4430**] DOC CLASS\""
      ]
     },
     "execution_count": 6,
     "metadata": {},
     "output_type": "execute_result"
    }
   ],
   "source": [
    "fn1, fn0 = sep()\n",
    "notes1, notes0, id1, id0 = read_notes(fn1)\n",
    "notes1[0]"
   ]
  },
  {
   "cell_type": "markdown",
   "metadata": {},
   "source": [
    "### Q1. What is the mean number of words and standard deviation (SD) of that mean for notes labelled as bleeding present? For notes labelled as bleeding absent?"
   ]
  },
  {
   "cell_type": "code",
   "execution_count": 7,
   "metadata": {
    "collapsed": true
   },
   "outputs": [],
   "source": [
    "def word_count_stat(notes,nlp):\n",
    "    count_list = []\n",
    "    for note in notes:\n",
    "        doc = nlp(note) \n",
    "        note_tokens = []\n",
    "        for token in doc:\n",
    "            if token.is_punct:\n",
    "                continue\n",
    "            else:\n",
    "                note_tokens.append(token.text)\n",
    "        ct = len(note_tokens)\n",
    "        count_list.append(ct)\n",
    "    count_array = np.array(count_list)\n",
    "    mu = np.mean(count_array)\n",
    "    s = np.std(count_array)\n",
    "    return mu, s"
   ]
  },
  {
   "cell_type": "code",
   "execution_count": 10,
   "metadata": {},
   "outputs": [
    {
     "name": "stdout",
     "output_type": "stream",
     "text": [
      "1228.04109589 679.708749843\n"
     ]
    }
   ],
   "source": [
    "mu1, s1 = word_count_stat(notes1,nlp)\n",
    "print(mu1,s1)"
   ]
  },
  {
   "cell_type": "code",
   "execution_count": 11,
   "metadata": {},
   "outputs": [
    {
     "name": "stdout",
     "output_type": "stream",
     "text": [
      "1079.87743191 616.860775617\n"
     ]
    }
   ],
   "source": [
    "mu0, s0 = word_count_stat(notes0,nlp)\n",
    "print(mu0,s0)"
   ]
  },
  {
   "cell_type": "markdown",
   "metadata": {},
   "source": [
    "### Q2.  What is the mean and SD for the number of times the words “bleed,” “bled,” and “bleeding” appear in notes labelled as bleeding present? For notes labelled as bleeding absent?"
   ]
  },
  {
   "cell_type": "code",
   "execution_count": 12,
   "metadata": {
    "collapsed": true
   },
   "outputs": [],
   "source": [
    "def bleed_count_stat(notes,nlp):\n",
    "    count_list = []\n",
    "    trigger = ['bleed','bled','bleeding']\n",
    "    for note in notes:\n",
    "        doc = nlp(note)\n",
    "        note_tokens = []\n",
    "        for token in doc:\n",
    "            if token.text.lower() in trigger:\n",
    "                note_tokens.append(token.text)\n",
    "        ct = len(note_tokens)\n",
    "        count_list.append(ct)\n",
    "    count_array = np.array(count_list)\n",
    "    mu = np.mean(count_array)\n",
    "    s = np.std(count_array)\n",
    "    return mu, s"
   ]
  },
  {
   "cell_type": "code",
   "execution_count": 13,
   "metadata": {},
   "outputs": [
    {
     "name": "stdout",
     "output_type": "stream",
     "text": [
      "2.36301369863 2.86184186545\n"
     ]
    }
   ],
   "source": [
    "mu1, s1 = bleed_count_stat(notes1,nlp)\n",
    "print(mu1,s1)"
   ]
  },
  {
   "cell_type": "code",
   "execution_count": 14,
   "metadata": {},
   "outputs": [
    {
     "name": "stdout",
     "output_type": "stream",
     "text": [
      "0.24513618677 0.646921534443\n"
     ]
    }
   ],
   "source": [
    "mu0, s0 = bleed_count_stat(notes0,nlp)\n",
    "print(mu0,s0)"
   ]
  },
  {
   "cell_type": "markdown",
   "metadata": {},
   "source": [
    "### Q3. What are the top ten bigrams in notes labelled as bleeding present? For notes labelled as bleeding absent?"
   ]
  },
  {
   "cell_type": "code",
   "execution_count": 15,
   "metadata": {
    "collapsed": true
   },
   "outputs": [],
   "source": [
    "def topn_bigrams_word(notes,nlp,n):\n",
    "    all_sentences = []\n",
    "    all_bigs = []\n",
    "    for note in notes:\n",
    "        doc = nlp(note)\n",
    "        sentences = [sent.text for sent in doc.sents]\n",
    "        all_sentences.extend(sentences) #combine all sentences into one single array\n",
    "        cv_i = CountVectorizer(ngram_range=(2,2)).fit(sentences)\n",
    "        bigs = cv_i.get_feature_names()\n",
    "        all_bigs.append(bigs) # read each note as bigrams into an array\n",
    "\n",
    "    ct_dict = {}\n",
    "    cv = CountVectorizer(ngram_range=(2,2)).fit(all_sentences)\n",
    "    bigs = cv.get_feature_names()\n",
    "    x=cv.fit_transform(all_sentences)\n",
    "    ct_array=sum(x).toarray()[0]\n",
    "    combo = zip(bigs,ct_array)\n",
    "    for bi, c in combo:\n",
    "        ct_dict[bi] = c\n",
    "    sorted_by_value = sorted(ct_dict.items(), key=lambda kv: kv[1], reverse=True)\n",
    "    topn = [x[0] for x in sorted_by_value[:n]]\n",
    "    return topn, all_bigs"
   ]
  },
  {
   "cell_type": "code",
   "execution_count": 16,
   "metadata": {},
   "outputs": [
    {
     "name": "stdout",
     "output_type": "stream",
     "text": [
      "['the patient', 'mg dl', 'in the', 'last name', 'not assessed', 'mg tablet', 'patient was', 'of the', 'sig one', 'to the']\n"
     ]
    }
   ],
   "source": [
    "n = 10\n",
    "topn1, all_bigs1 = topn_bigrams_word(notes1,nlp,n)\n",
    "print(topn1)"
   ]
  },
  {
   "cell_type": "code",
   "execution_count": 17,
   "metadata": {},
   "outputs": [
    {
     "name": "stdout",
     "output_type": "stream",
     "text": [
      "['mg dl', 'the patient', 'last name', 'in the', 'mg tablet', 'sig one', 'to the', 'tablet sig', 'tablet po', 'one tablet']\n"
     ]
    }
   ],
   "source": [
    "topn0, all_bigs0 = topn_bigrams_word(notes0,nlp,n)\n",
    "print(topn0)"
   ]
  },
  {
   "cell_type": "markdown",
   "metadata": {},
   "source": [
    "### Q4. Use scikit learn (or other package) to create a machine learning model to predict bleeding present or bleeding absent for each clinical note. Nothing fancy, just a simple model. What is the sensitivity, specificity, positive predictive value, and negative predictive value for the model?"
   ]
  },
  {
   "cell_type": "code",
   "execution_count": 18,
   "metadata": {
    "collapsed": true
   },
   "outputs": [],
   "source": [
    "def combine(notes1,notes0,nlp,n):\n",
    "    topn1, all_bigs1 = topn_bigrams_word(notes1,nlp,n)\n",
    "    topn0, all_bigs0 = topn_bigrams_word(notes0,nlp,n)\n",
    "    topn=list(set(topn0+topn1))\n",
    "    print('feature size:',len(topn))\n",
    "    return all_bigs0 + all_bigs1,topn"
   ]
  },
  {
   "cell_type": "code",
   "execution_count": 19,
   "metadata": {
    "collapsed": true
   },
   "outputs": [],
   "source": [
    "def gen_voc_dict(topn):\n",
    "    voc_dict = dict((item, i) for i, item in enumerate(topn))\n",
    "    return voc_dict"
   ]
  },
  {
   "cell_type": "code",
   "execution_count": 20,
   "metadata": {
    "collapsed": true
   },
   "outputs": [],
   "source": [
    "def note_to_idx(note_big,voc_dict): \n",
    "    index_list = [ voc_dict[token] for token in note_big if token in voc_dict ]\n",
    "    return index_list"
   ]
  },
  {
   "cell_type": "code",
   "execution_count": 24,
   "metadata": {
    "collapsed": true
   },
   "outputs": [],
   "source": [
    "def note_to_vec(note_big,voc_dict):\n",
    "    n = len(voc_dict)\n",
    "    result = np.zeros((n,1))\n",
    "    voc_idx = note_to_idx(note_big, voc_dict)\n",
    "    for idx in voc_idx:\n",
    "        result[idx] = 1\n",
    "    result = np.reshape(result,n).tolist()\n",
    "    return result"
   ]
  },
  {
   "cell_type": "code",
   "execution_count": 21,
   "metadata": {
    "collapsed": true
   },
   "outputs": [],
   "source": [
    "def prep_X(all_bigs,voc_dict):\n",
    "    X_list=[note_to_vec(x, voc_dict) for x in all_bigs]\n",
    "    df = pd.DataFrame(data=X_list)\n",
    "    X=df.values\n",
    "    return X"
   ]
  },
  {
   "cell_type": "code",
   "execution_count": 22,
   "metadata": {
    "collapsed": true
   },
   "outputs": [],
   "source": [
    "def prep_y(id1,id0):\n",
    "    idx = id0 + id1\n",
    "    label_path = 'docclasses_RAtrial.csv'\n",
    "    df=pd.read_csv(label_path)\n",
    "    df=df.set_index('documentname')\n",
    "    df1=df.loc[idx]\n",
    "    y=df1.values\n",
    "    return y"
   ]
  },
  {
   "cell_type": "code",
   "execution_count": 25,
   "metadata": {
    "collapsed": true
   },
   "outputs": [],
   "source": [
    "def classify(X,y): \n",
    "    X_train, X_test, y_train, y_test = train_test_split(X, y, random_state=0)\n",
    "    classifier = svm.SVC(kernel='linear', C=0.01)\n",
    "    y_pred = classifier.fit(X_train, y_train).predict(X_test)\n",
    "    return y_test,y_pred"
   ]
  },
  {
   "cell_type": "code",
   "execution_count": 26,
   "metadata": {
    "collapsed": true
   },
   "outputs": [],
   "source": [
    "def eval(y_true,y_pred):\n",
    "    tn, fp, fn, tp = confusion_matrix(y_true, y_pred).ravel()\n",
    "    sensitivity = tp/(tp+fn+eps)\n",
    "    specificity = tn/(tn+fp+eps)\n",
    "    ppv = tp/(tp+fp+eps)\n",
    "    npv = tn/(tn+fn+eps)\n",
    "    return sensitivity, specificity, ppv, npv"
   ]
  },
  {
   "cell_type": "code",
   "execution_count": 27,
   "metadata": {},
   "outputs": [
    {
     "name": "stdout",
     "output_type": "stream",
     "text": [
      "sensitivity: 0.0\n",
      "specificity: 0.999999991935\n",
      "positive predictive value: 0.751515146961\n",
      "negative predictive value: 0.751515146961\n"
     ]
    },
    {
     "name": "stderr",
     "output_type": "stream",
     "text": [
      "/anaconda/lib/python3.6/site-packages/sklearn/utils/validation.py:547: DataConversionWarning: A column-vector y was passed when a 1d array was expected. Please change the shape of y to (n_samples, ), for example using ravel().\n",
      "  y = column_or_1d(y, warn=True)\n"
     ]
    }
   ],
   "source": [
    "n=30\n",
    "eps = 1e-6\n",
    "all_bigs,topn=combine(notes1,notes0,nlp,n)\n",
    "voc_dict=gen_voc_dict(topn)\n",
    "X=prep_X(all_bigs,voc_dict)\n",
    "y=prep_y(id1,id0)\n",
    "y_test,y_pred=classify(X,y)\n",
    "sensitivity, specificity, ppv, npv=eval(y_test,y_pred)\n",
    "print('sensitivity:', sensitivity)\n",
    "print('specificity:', specificity)\n",
    "print('positive predictive value:', npv)\n",
    "print('negative predictive value:',npv)"
   ]
  }
 ],
 "metadata": {
  "kernelspec": {
   "display_name": "Python 3",
   "language": "python",
   "name": "python3"
  },
  "language_info": {
   "codemirror_mode": {
    "name": "ipython",
    "version": 3
   },
   "file_extension": ".py",
   "mimetype": "text/x-python",
   "name": "python",
   "nbconvert_exporter": "python",
   "pygments_lexer": "ipython3",
   "version": "3.6.4"
  }
 },
 "nbformat": 4,
 "nbformat_minor": 2
}
